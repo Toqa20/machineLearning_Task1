{
 "cells": [
  {
   "cell_type": "code",
   "execution_count": 2,
   "metadata": {},
   "outputs": [],
   "source": [
    "import pandas as pd\n",
    "from sklearn.linear_model import SGDClassifier\n"
   ]
  },
  {
   "cell_type": "code",
   "execution_count": 3,
   "metadata": {},
   "outputs": [],
   "source": [
    "train_df=pd.read_csv(r'C:\\Users\\mas\\Desktop\\machine task\\mnist_train.csv')\n",
    "test_df=pd.read_csv(r'C:\\Users\\mas\\Desktop\\machine task\\mnist_test.csv')"
   ]
  },
  {
   "cell_type": "code",
   "execution_count": 4,
   "metadata": {},
   "outputs": [
    {
     "name": "stdout",
     "output_type": "stream",
     "text": [
      "(60000, 785)\n",
      "(10000, 785)\n"
     ]
    }
   ],
   "source": [
    "print(train_df.shape)\n",
    "print(test_df.shape)"
   ]
  },
  {
   "cell_type": "code",
   "execution_count": 5,
   "metadata": {},
   "outputs": [
    {
     "name": "stdout",
     "output_type": "stream",
     "text": [
      "              label      1x1      1x2      1x3      1x4      1x5      1x6  \\\n",
      "count  60000.000000  60000.0  60000.0  60000.0  60000.0  60000.0  60000.0   \n",
      "mean       4.453933      0.0      0.0      0.0      0.0      0.0      0.0   \n",
      "std        2.889270      0.0      0.0      0.0      0.0      0.0      0.0   \n",
      "min        0.000000      0.0      0.0      0.0      0.0      0.0      0.0   \n",
      "25%        2.000000      0.0      0.0      0.0      0.0      0.0      0.0   \n",
      "50%        4.000000      0.0      0.0      0.0      0.0      0.0      0.0   \n",
      "75%        7.000000      0.0      0.0      0.0      0.0      0.0      0.0   \n",
      "max        9.000000      0.0      0.0      0.0      0.0      0.0      0.0   \n",
      "\n",
      "           1x7      1x8      1x9  ...         28x19         28x20  \\\n",
      "count  60000.0  60000.0  60000.0  ...  60000.000000  60000.000000   \n",
      "mean       0.0      0.0      0.0  ...      0.200433      0.088867   \n",
      "std        0.0      0.0      0.0  ...      6.042472      3.956189   \n",
      "min        0.0      0.0      0.0  ...      0.000000      0.000000   \n",
      "25%        0.0      0.0      0.0  ...      0.000000      0.000000   \n",
      "50%        0.0      0.0      0.0  ...      0.000000      0.000000   \n",
      "75%        0.0      0.0      0.0  ...      0.000000      0.000000   \n",
      "max        0.0      0.0      0.0  ...    254.000000    254.000000   \n",
      "\n",
      "              28x21         28x22         28x23       28x24    28x25    28x26  \\\n",
      "count  60000.000000  60000.000000  60000.000000  60000.0000  60000.0  60000.0   \n",
      "mean       0.045633      0.019283      0.015117      0.0020      0.0      0.0   \n",
      "std        2.839845      1.686770      1.678283      0.3466      0.0      0.0   \n",
      "min        0.000000      0.000000      0.000000      0.0000      0.0      0.0   \n",
      "25%        0.000000      0.000000      0.000000      0.0000      0.0      0.0   \n",
      "50%        0.000000      0.000000      0.000000      0.0000      0.0      0.0   \n",
      "75%        0.000000      0.000000      0.000000      0.0000      0.0      0.0   \n",
      "max      253.000000    253.000000    254.000000     62.0000      0.0      0.0   \n",
      "\n",
      "         28x27    28x28  \n",
      "count  60000.0  60000.0  \n",
      "mean       0.0      0.0  \n",
      "std        0.0      0.0  \n",
      "min        0.0      0.0  \n",
      "25%        0.0      0.0  \n",
      "50%        0.0      0.0  \n",
      "75%        0.0      0.0  \n",
      "max        0.0      0.0  \n",
      "\n",
      "[8 rows x 785 columns]\n"
     ]
    }
   ],
   "source": [
    "print(train_df.describe())\n"
   ]
  },
  {
   "cell_type": "code",
   "execution_count": 6,
   "metadata": {},
   "outputs": [
    {
     "name": "stdout",
     "output_type": "stream",
     "text": [
      "              label      1x1      1x2      1x3      1x4      1x5      1x6  \\\n",
      "count  10000.000000  10000.0  10000.0  10000.0  10000.0  10000.0  10000.0   \n",
      "mean       4.443400      0.0      0.0      0.0      0.0      0.0      0.0   \n",
      "std        2.895865      0.0      0.0      0.0      0.0      0.0      0.0   \n",
      "min        0.000000      0.0      0.0      0.0      0.0      0.0      0.0   \n",
      "25%        2.000000      0.0      0.0      0.0      0.0      0.0      0.0   \n",
      "50%        4.000000      0.0      0.0      0.0      0.0      0.0      0.0   \n",
      "75%        7.000000      0.0      0.0      0.0      0.0      0.0      0.0   \n",
      "max        9.000000      0.0      0.0      0.0      0.0      0.0      0.0   \n",
      "\n",
      "           1x7      1x8      1x9  ...         28x19         28x20  \\\n",
      "count  10000.0  10000.0  10000.0  ...  10000.000000  10000.000000   \n",
      "mean       0.0      0.0      0.0  ...      0.179300      0.163600   \n",
      "std        0.0      0.0      0.0  ...      5.674149      5.736072   \n",
      "min        0.0      0.0      0.0  ...      0.000000      0.000000   \n",
      "25%        0.0      0.0      0.0  ...      0.000000      0.000000   \n",
      "50%        0.0      0.0      0.0  ...      0.000000      0.000000   \n",
      "75%        0.0      0.0      0.0  ...      0.000000      0.000000   \n",
      "max        0.0      0.0      0.0  ...    253.000000    253.000000   \n",
      "\n",
      "              28x21       28x22    28x23    28x24    28x25    28x26    28x27  \\\n",
      "count  10000.000000  10000.0000  10000.0  10000.0  10000.0  10000.0  10000.0   \n",
      "mean       0.052600      0.0006      0.0      0.0      0.0      0.0      0.0   \n",
      "std        2.420004      0.0600      0.0      0.0      0.0      0.0      0.0   \n",
      "min        0.000000      0.0000      0.0      0.0      0.0      0.0      0.0   \n",
      "25%        0.000000      0.0000      0.0      0.0      0.0      0.0      0.0   \n",
      "50%        0.000000      0.0000      0.0      0.0      0.0      0.0      0.0   \n",
      "75%        0.000000      0.0000      0.0      0.0      0.0      0.0      0.0   \n",
      "max      156.000000      6.0000      0.0      0.0      0.0      0.0      0.0   \n",
      "\n",
      "         28x28  \n",
      "count  10000.0  \n",
      "mean       0.0  \n",
      "std        0.0  \n",
      "min        0.0  \n",
      "25%        0.0  \n",
      "50%        0.0  \n",
      "75%        0.0  \n",
      "max        0.0  \n",
      "\n",
      "[8 rows x 785 columns]\n"
     ]
    }
   ],
   "source": [
    "print(test_df.describe())\n"
   ]
  },
  {
   "cell_type": "code",
   "execution_count": 7,
   "metadata": {},
   "outputs": [
    {
     "name": "stdout",
     "output_type": "stream",
     "text": [
      "<class 'pandas.core.frame.DataFrame'>\n",
      "RangeIndex: 60000 entries, 0 to 59999\n",
      "Columns: 785 entries, label to 28x28\n",
      "dtypes: int64(785)\n",
      "memory usage: 359.3 MB\n"
     ]
    }
   ],
   "source": [
    "train_df.info()"
   ]
  },
  {
   "cell_type": "code",
   "execution_count": 8,
   "metadata": {},
   "outputs": [],
   "source": [
    "x_train, y_train, x_test, y_test = train_df.drop(['label'], axis=1), train_df.label, test_df.drop(['label'], axis=1), test_df.label"
   ]
  },
  {
   "cell_type": "code",
   "execution_count": 14,
   "metadata": {},
   "outputs": [
    {
     "data": {
      "text/plain": [
       "SGDClassifier()"
      ]
     },
     "execution_count": 14,
     "metadata": {},
     "output_type": "execute_result"
    }
   ],
   "source": [
    "sgd_clf = SGDClassifier()\n",
    "sgd_clf.fit(x_train, y_train)"
   ]
  },
  {
   "cell_type": "code",
   "execution_count": 11,
   "metadata": {},
   "outputs": [],
   "source": [
    "y_test_pred = sgd_clf.predict(x_test)\n"
   ]
  },
  {
   "cell_type": "code",
   "execution_count": 12,
   "metadata": {},
   "outputs": [
    {
     "data": {
      "text/plain": [
       "array([7, 2, 1, ..., 4, 5, 6], dtype=int64)"
      ]
     },
     "execution_count": 12,
     "metadata": {},
     "output_type": "execute_result"
    }
   ],
   "source": [
    "y_test_pred\n"
   ]
  },
  {
   "cell_type": "code",
   "execution_count": 13,
   "metadata": {},
   "outputs": [
    {
     "data": {
      "text/plain": [
       "0       7\n",
       "1       2\n",
       "2       1\n",
       "3       0\n",
       "4       4\n",
       "       ..\n",
       "9995    2\n",
       "9996    3\n",
       "9997    4\n",
       "9998    5\n",
       "9999    6\n",
       "Name: label, Length: 10000, dtype: int64"
      ]
     },
     "execution_count": 13,
     "metadata": {},
     "output_type": "execute_result"
    }
   ],
   "source": [
    "y_test\n"
   ]
  },
  {
   "cell_type": "code",
   "execution_count": null,
   "metadata": {},
   "outputs": [],
   "source": []
  }
 ],
 "metadata": {
  "kernelspec": {
   "display_name": "Python 3",
   "language": "python",
   "name": "python3"
  },
  "language_info": {
   "codemirror_mode": {
    "name": "ipython",
    "version": 3
   },
   "file_extension": ".py",
   "mimetype": "text/x-python",
   "name": "python",
   "nbconvert_exporter": "python",
   "pygments_lexer": "ipython3",
   "version": "3.7.1"
  }
 },
 "nbformat": 4,
 "nbformat_minor": 4
}
